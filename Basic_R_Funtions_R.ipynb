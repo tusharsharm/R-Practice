{
  "nbformat": 4,
  "nbformat_minor": 0,
  "metadata": {
    "colab": {
      "provenance": [],
      "authorship_tag": "ABX9TyOLpy/EvtVTxJq4wR3DYc/2",
      "include_colab_link": true
    },
    "kernelspec": {
      "name": "ir",
      "display_name": "R"
    },
    "language_info": {
      "name": "R"
    }
  },
  "cells": [
    {
      "cell_type": "markdown",
      "metadata": {
        "id": "view-in-github",
        "colab_type": "text"
      },
      "source": [
        "<a href=\"https://colab.research.google.com/github/tusharsharm/R-Practice/blob/main/Basic_R_Funtions_R.ipynb\" target=\"_parent\"><img src=\"https://colab.research.google.com/assets/colab-badge.svg\" alt=\"Open In Colab\"/></a>"
      ]
    },
    {
      "cell_type": "markdown",
      "source": [
        "# Basic R Functions\n",
        "Tushar Sharma"
      ],
      "metadata": {
        "id": "zBYwP9Qx3_56"
      }
    },
    {
      "cell_type": "code",
      "execution_count": null,
      "metadata": {
        "id": "pmIBgwISfbTm"
      },
      "outputs": [],
      "source": [
        "# Basic Operations\n",
        "v <- c(1, 2, 3, 4, 5)  # Create a vector\n",
        "print(v)\n",
        "\n",
        "seq_vec <- seq(1, 10, by=2)  # Generate a sequence\n",
        "print(seq_vec)\n",
        "\n",
        "rep_vec <- rep(1:3, times=2)  # Repeat elements\n",
        "print(rep_vec)\n",
        "\n",
        "len <- length(v)  # Get vector length\n",
        "print(len)\n",
        "\n",
        "sorted_v <- sort(v, decreasing=TRUE)  # Sort values\n",
        "print(sorted_v)\n",
        "\n",
        "o_idx <- order(v)  # Get ordering index\n",
        "print(o_idx)\n",
        "\n",
        "rev_v <- rev(v)  # Reverse elements\n",
        "print(rev_v)\n",
        "\n",
        "unique_vals <- unique(c(1, 2, 2, 3, 4))  # Find unique values\n",
        "print(unique_vals)\n",
        "\n",
        "freq_table <- table(c(\"A\", \"B\", \"A\", \"C\", \"B\"))  # Frequency table\n",
        "print(freq_table)\n",
        "\n",
        "match_idx <- match(2, v)  # Find index of matching value\n",
        "print(match_idx)\n",
        "\n",
        "exists <- 3 %in% v  # Check if value exists in vector\n",
        "print(exists)\n",
        "\n",
        "idx <- which(v > 3)  # Find index of elements satisfying condition\n",
        "print(idx)\n",
        "\n",
        "any_true <- any(v > 3)  # Check if any value is TRUE\n",
        "print(any_true)\n",
        "\n",
        "all_true <- all(v > 0)  # Check if all values are TRUE\n",
        "print(all_true)\n",
        "\n"
      ]
    },
    {
      "cell_type": "code",
      "source": [
        "# Handling missing values\n",
        "na_vec <- c(1, NA, 3)\n",
        "is_na <- is.na(na_vec)  # Check for missing values\n",
        "print(is_na)\n",
        "\n",
        "clean_vec <- na.omit(na_vec)  # Remove NA values\n",
        "print(clean_vec)\n",
        "\n",
        "replaced_vec <- replace(v, v == 2, 10)  # Replace values\n",
        "print(replaced_vec)\n",
        "\n"
      ],
      "metadata": {
        "id": "o5vfy83N4JSd"
      },
      "execution_count": null,
      "outputs": []
    },
    {
      "cell_type": "code",
      "source": [
        "# String operations\n",
        "str1 <- paste(\"Hello\", \"World\")  # Concatenate strings\n",
        "print(str1)\n",
        "\n",
        "str2 <- paste0(\"Hello\", \"World\")  # Concatenate without space\n",
        "print(str2)\n",
        "\n",
        "upper <- toupper(\"hello\")  # Convert to uppercase\n",
        "print(upper)\n",
        "\n",
        "lower <- tolower(\"HELLO\")  # Convert to lowercase\n",
        "print(lower)\n",
        "\n",
        "sub_str <- substr(\"HelloWorld\", 2, 5)  # Extract substring\n",
        "print(sub_str)\n",
        "\n",
        "matched <- grep(\"lo\", \"Hello\", value=TRUE)  # Pattern matching\n",
        "print(matched)\n",
        "\n",
        "replaced <- gsub(\"o\", \"0\", \"Hello\")  # Replace pattern\n",
        "print(replaced)\n",
        "\n",
        "splitted <- strsplit(\"Hello World\", \" \")  # Split strings\n",
        "print(splitted)\n",
        "\n"
      ],
      "metadata": {
        "id": "SzJeplcF4LsK"
      },
      "execution_count": null,
      "outputs": []
    },
    {
      "cell_type": "code",
      "source": [
        "# Type conversion\n",
        "num_val <- as.numeric(\"10\")  # Convert to numeric\n",
        "print(num_val)\n",
        "\n",
        "char_val <- as.character(100)  # Convert to character\n",
        "print(char_val)\n",
        "\n",
        "factor_val <- as.factor(c(\"A\", \"B\", \"A\"))  # Convert to factor\n",
        "print(factor_val)\n",
        "\n",
        "date_val <- as.Date(\"2023-01-01\")  # Convert to date\n",
        "print(date_val)\n",
        "\n",
        "current_date <- Sys.Date()  # Get current date\n",
        "print(current_date)\n",
        "\n"
      ],
      "metadata": {
        "id": "2jt3ni_h4PAb"
      },
      "execution_count": null,
      "outputs": []
    },
    {
      "cell_type": "code",
      "source": [
        "# Mathematical & Statistical Functions\n",
        "sum_val <- sum(v)  # Sum of elements\n",
        "print(sum_val)\n",
        "\n",
        "prod_val <- prod(v)  # Product of elements\n",
        "print(prod_val)\n",
        "\n",
        "cumsum_val <- cumsum(v)  # Cumulative sum\n",
        "print(cumsum_val)\n",
        "\n",
        "cumprod_val <- cumprod(v)  # Cumulative product\n",
        "print(cumprod_val)\n",
        "\n",
        "mean_val <- mean(v)  # Compute mean\n",
        "print(mean_val)\n",
        "\n",
        "median_val <- median(v)  # Compute median\n",
        "print(median_val)\n",
        "\n",
        "min_val <- min(v)  # Find minimum\n",
        "print(min_val)\n",
        "\n",
        "max_val <- max(v)  # Find maximum\n",
        "print(max_val)\n",
        "\n",
        "range_val <- range(v)  # Find range\n",
        "print(range_val)\n",
        "\n",
        "var_val <- var(v)  # Variance\n",
        "print(var_val)\n",
        "\n",
        "sd_val <- sd(v)  # Standard deviation\n",
        "print(sd_val)\n",
        "\n",
        "quantiles <- quantile(v, probs=c(0.25, 0.5, 0.75))  # Compute quantiles\n",
        "print(quantiles)\n",
        "\n",
        "rounded <- round(3.14159, 2)  # Round values\n",
        "print(rounded)\n",
        "\n",
        "ceiling_val <- ceiling(3.2)  # Round up\n",
        "print(ceiling_val)\n",
        "\n",
        "floor_val <- floor(3.7)  # Round down\n",
        "print(floor_val)\n",
        "\n",
        "abs_val <- abs(-10)  # Absolute value\n",
        "print(abs_val)\n",
        "\n",
        "sqrt_val <- sqrt(16)  # Square root\n",
        "print(sqrt_val)\n",
        "\n",
        "log_val <- log(10)  # Natural logarithm\n",
        "print(log_val)\n",
        "\n",
        "exp_val <- exp(2)  # Exponential function\n",
        "print(exp_val)\n",
        "\n",
        "factorial_val <- factorial(5)  # Compute factorial\n",
        "print(factorial_val)\n",
        "\n",
        "binomial_coef <- choose(5, 2)  # Compute binomial coefficient\n",
        "print(binomial_coef)\n",
        "\n",
        "sin_val <- sin(pi/2)  # Sine function\n",
        "print(sin_val)\n",
        "\n",
        "cos_val <- cos(pi/2)  # Cosine function\n",
        "print(cos_val)\n",
        "\n",
        "tan_val <- tan(pi/4)  # Tangent function\n",
        "print(tan_val)\n",
        "\n"
      ],
      "metadata": {
        "id": "rTaxonsG4RRR"
      },
      "execution_count": null,
      "outputs": []
    },
    {
      "cell_type": "code",
      "source": [
        "# Debugging & Environment Management\n",
        "ls_objs <- ls()  # List objects\n",
        "print(ls_objs)\n",
        "\n",
        "gc()  # Garbage collection\n",
        "\n",
        "print(\"Hello World\")  # Print output\n",
        "\n",
        "cat(\"Hello\", \"World\", \"\\n\")  # Print text output\n"
      ],
      "metadata": {
        "id": "Yzhf7MKA4UIR"
      },
      "execution_count": null,
      "outputs": []
    }
  ]
}